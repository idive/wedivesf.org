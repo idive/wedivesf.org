{
 "metadata": {
  "name": "geocode"
 },
 "nbformat": 3,
 "nbformat_minor": 0,
 "worksheets": [
  {
   "cells": [
    {
     "cell_type": "code",
     "collapsed": false,
     "input": [
      "from pygeocoder import Geocoder"
     ],
     "language": "python",
     "metadata": {},
     "outputs": [],
     "prompt_number": 1
    },
    {
     "cell_type": "code",
     "collapsed": false,
     "input": [
      "res = Geocoder.geocode('Pier 39 (Beach St & The Embarcadero), San Francisco, CA 94133')"
     ],
     "language": "python",
     "metadata": {},
     "outputs": [],
     "prompt_number": 2
    },
    {
     "cell_type": "code",
     "collapsed": false,
     "input": [
      "res.coordinates"
     ],
     "language": "python",
     "metadata": {},
     "outputs": [
      {
       "output_type": "pyout",
       "prompt_number": 3,
       "text": [
        "(37.7999155, -122.3980958)"
       ]
      }
     ],
     "prompt_number": 3
    },
    {
     "cell_type": "code",
     "collapsed": false,
     "input": [
      "import csv"
     ],
     "language": "python",
     "metadata": {},
     "outputs": [],
     "prompt_number": 4
    },
    {
     "cell_type": "code",
     "collapsed": false,
     "input": [
      "with open('weDive list - Sheet1.csv') as f:\n",
      "    reader = csv.DictReader(f)\n",
      "    data = [r for r in reader]"
     ],
     "language": "python",
     "metadata": {},
     "outputs": [],
     "prompt_number": 6
    },
    {
     "cell_type": "code",
     "collapsed": false,
     "input": [
      "for loc in data:\n",
      "    if loc['address'] != '':\n",
      "        loc['latlon'] = Geocoder.geocode(loc['address']).coordinates"
     ],
     "language": "python",
     "metadata": {},
     "outputs": [],
     "prompt_number": 10
    },
    {
     "cell_type": "code",
     "collapsed": false,
     "input": [
      "data"
     ],
     "language": "python",
     "metadata": {},
     "outputs": [
      {
       "output_type": "pyout",
       "prompt_number": 11,
       "text": [
        "[{'address': 'Pier 39 (Beach St & The Embarcadero), San Francisco, CA 94133',\n",
        "  'comment': '',\n",
        "  'facebook': 'https://www.facebook.com/AquariumOfTheBay',\n",
        "  'latlon': (37.7999155, -122.3980958),\n",
        "  'name': 'Aquarium of the Bay',\n",
        "  'twitter': '@aquariumofthebay',\n",
        "  'type': 'aquarium',\n",
        "  'url': 'http://www.aquariumofthebay.org/'},\n",
        " {'address': '55 Music Concourse Dr, San Francisco, CA 94118',\n",
        "  'comment': '',\n",
        "  'facebook': 'https://www.facebook.com/calacademy',\n",
        "  'latlon': (37.7698218, -122.4660077),\n",
        "  'name': 'Steinhart Aquarium',\n",
        "  'twitter': '@calacademy',\n",
        "  'type': 'aquarium',\n",
        "  'url': 'http://www.calacademy.org/academy/exhibits/aquarium/'},\n",
        " {'address': '886 Cannery Row  Monterey, CA 93940',\n",
        "  'comment': '',\n",
        "  'facebook': 'https://www.facebook.com/montereybayaquarium',\n",
        "  'latlon': (36.618266, -121.902339),\n",
        "  'name': 'Monterey Bay Aquarium',\n",
        "  'twitter': '@montereyaq',\n",
        "  'type': 'aquarium',\n",
        "  'url': 'http://www.montereybayaquarium.org/'},\n",
        " {'address': '1 Zoo Rd, San Francisco, California 94132',\n",
        "  'comment': '',\n",
        "  'facebook': 'https://www.facebook.com/sanfranzoo',\n",
        "  'latlon': (37.73321019999999, -122.5032827),\n",
        "  'name': 'San Francisco Zoo',\n",
        "  'twitter': ' @sfzoo',\n",
        "  'type': 'aquarium',\n",
        "  'url': 'http://www.sfzoo.org/'},\n",
        " {'address': '9777 Golf Links Rd, Oakland, CA 94605',\n",
        "  'comment': '',\n",
        "  'facebook': 'https://www.facebook.com/OakZoo',\n",
        "  'latlon': (37.750867, -122.148185),\n",
        "  'name': 'Oakland Zoo',\n",
        "  'twitter': '@oakzoo',\n",
        "  'type': 'aquarium',\n",
        "  'url': 'http://www.oaklandzoo.org/'},\n",
        " {'address': '2000 Bunker Rd, Sausalito, CA 94965',\n",
        "  'comment': '',\n",
        "  'facebook': 'https://www.facebook.com/themarinemammalcenter',\n",
        "  'latlon': (37.837509, -122.538537),\n",
        "  'name': 'Marine Mammal Center',\n",
        "  'twitter': '@TMMC',\n",
        "  'type': 'aquarium',\n",
        "  'url': 'http://www.marinemammalcenter.org/'},\n",
        " {'address': '584 4th St, San Francisco, CA',\n",
        "  'comment': '',\n",
        "  'facebook': 'https://www.facebook.com/bambooreefscuba',\n",
        "  'latlon': (37.7784649, -122.3969088),\n",
        "  'name': 'Bamboo Reef Enterprises',\n",
        "  'twitter': '@bambooreefscuba',\n",
        "  'type': 'dive center',\n",
        "  'url': 'http://bambooreef.com/'},\n",
        " {'address': '1517 Webster Street, Alameda, CA 94501',\n",
        "  'comment': '',\n",
        "  'facebook': '',\n",
        "  'latlon': (37.7739203, -122.2768114),\n",
        "  'name': 'AAA Premier Scuba',\n",
        "  'twitter': '',\n",
        "  'type': 'dive center',\n",
        "  'url': 'http://www.aaapremierscuba.com/'},\n",
        " {'address': '5987 Telegraph Ave, Oakland, CA 94609',\n",
        "  'comment': '',\n",
        "  'facebook': '',\n",
        "  'latlon': (37.8462869, -122.261387),\n",
        "  'name': 'Steele\\xe2\\x80\\x99s',\n",
        "  'twitter': '',\n",
        "  'type': 'dive center',\n",
        "  'url': 'http://www.yelp.com/biz/steeles-oakland'},\n",
        " {'address': '200 Harbor Drive, Sausalito, CA 94965',\n",
        "  'comment': '',\n",
        "  'facebook': 'https://www.facebook.com/harbordive',\n",
        "  'latlon': (38.113885, -122.506563),\n",
        "  'name': 'Harbor Dive Center',\n",
        "  'twitter': '',\n",
        "  'type': 'dive center',\n",
        "  'url': 'http://www.harbordive.com/'},\n",
        " {'address': '1210 South El Camino Real, San Mateo, CA 94402',\n",
        "  'comment': '',\n",
        "  'facebook': 'https://www.facebook.com/ScubaFusion',\n",
        "  'latlon': (37.55569819999999, -122.3181259),\n",
        "  'name': 'Scuba Fusion',\n",
        "  'twitter': '',\n",
        "  'type': 'dive center',\n",
        "  'url': 'http://www.scubafusion.com/'},\n",
        " {'address': '295 West 20th Avenue, San Mateo, CA 94403',\n",
        "  'comment': '',\n",
        "  'facebook': 'https://www.facebook.com/wallinsdivecenter',\n",
        "  'latlon': (37.5471218, -122.314445),\n",
        "  'name': 'Wallins',\n",
        "  'twitter': '',\n",
        "  'type': 'dive center',\n",
        "  'url': 'http://www.wallins.com/'},\n",
        " {'address': '541 Oceana Boulevard, Pacifica, CA 94044',\n",
        "  'comment': '',\n",
        "  'facebook': '',\n",
        "  'latlon': (37.6486559, -122.4906053),\n",
        "  'name': 'Anderson\\xe2\\x80\\x99s Scuba Diving',\n",
        "  'twitter': '',\n",
        "  'type': 'dive center',\n",
        "  'url': 'http://www.andersonscuba.com/'},\n",
        " {'address': 'Farallones Islands',\n",
        "  'comment': '',\n",
        "  'facebook': '',\n",
        "  'latlon': (43.7166667, -7.433333299999999),\n",
        "  'name': 'Farallones Marine Sanctuary Association',\n",
        "  'twitter': '',\n",
        "  'type': 'Conservancy',\n",
        "  'url': 'http://www.farallones.org/'},\n",
        " {'address': '',\n",
        "  'comment': '',\n",
        "  'facebook': '',\n",
        "  'latlon': '',\n",
        "  'name': 'The Ocean Conservancy',\n",
        "  'twitter': '',\n",
        "  'type': '',\n",
        "  'url': ''},\n",
        " {'address': '',\n",
        "  'comment': '',\n",
        "  'facebook': '',\n",
        "  'latlon': '',\n",
        "  'name': 'The Oceanic Society',\n",
        "  'twitter': '',\n",
        "  'type': '',\n",
        "  'url': ''},\n",
        " {'address': '',\n",
        "  'comment': '',\n",
        "  'facebook': '',\n",
        "  'latlon': '',\n",
        "  'name': 'Center for Ocean Science Education Excellence (COSEE) in CA',\n",
        "  'twitter': '',\n",
        "  'type': '',\n",
        "  'url': ''},\n",
        " {'address': '',\n",
        "  'comment': '',\n",
        "  'facebook': '',\n",
        "  'latlon': '',\n",
        "  'name': 'Long-term Monitoring Program and Experiential Training for Students (LiMPETS)',\n",
        "  'twitter': '',\n",
        "  'type': '',\n",
        "  'url': ''},\n",
        " {'address': '',\n",
        "  'comment': '',\n",
        "  'facebook': '',\n",
        "  'latlon': '',\n",
        "  'name': 'Reef Check',\n",
        "  'twitter': '',\n",
        "  'type': '',\n",
        "  'url': ''},\n",
        " {'address': '',\n",
        "  'comment': '',\n",
        "  'facebook': '',\n",
        "  'latlon': '',\n",
        "  'name': 'Reef ID',\n",
        "  'twitter': '',\n",
        "  'type': '',\n",
        "  'url': ''},\n",
        " {'address': '',\n",
        "  'comment': '',\n",
        "  'facebook': '',\n",
        "  'latlon': '',\n",
        "  'name': 'Lindsey Wildlife Museum',\n",
        "  'twitter': '',\n",
        "  'type': '',\n",
        "  'url': ''}]"
       ]
      }
     ],
     "prompt_number": 11
    },
    {
     "cell_type": "code",
     "collapsed": false,
     "input": [
      "import json"
     ],
     "language": "python",
     "metadata": {},
     "outputs": [],
     "prompt_number": 12
    },
    {
     "cell_type": "code",
     "collapsed": false,
     "input": [
      "json.dump(data, open('data.json', 'w'))"
     ],
     "language": "python",
     "metadata": {},
     "outputs": [],
     "prompt_number": 14
    },
    {
     "cell_type": "code",
     "collapsed": false,
     "input": [],
     "language": "python",
     "metadata": {},
     "outputs": []
    }
   ],
   "metadata": {}
  }
 ]
}